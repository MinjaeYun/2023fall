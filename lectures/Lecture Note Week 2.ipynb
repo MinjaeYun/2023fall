{
 "cells": [
  {
   "cell_type": "markdown",
   "id": "b2813d95",
   "metadata": {},
   "source": [
    "# Week 2: Data Collection 1 - Working with APIs\n",
    "\n",
    "**Author:** Minjae Yun\n",
    "\n",
    "In today's digital world, APIs (Application Programming Interfaces) have become an essential part of modern software systems. In this session, we'll explore what an API is and how to effectively use it.\n",
    "\n",
    "## US Census Data\n",
    "The US Census Bureau has transitioned from manual bulk downloading to using APIs for data retrieval since 2020 [Census Data API](https://www.census.gov/newsroom/press-releases/2020/american-factfinder-retiring.html). This change aims to offer more efficient ways to access data. To get started:\n",
    "\n",
    "- Visit the [US Census API Key Signup](https://api.census.gov/data/key_signup.html) page and sign up for an API key.\n",
    "\n",
    "### Side Note: Understanding the `format()` Function\n",
    "The `format()` function in Python is used for string formatting and allows you to insert values into placeholders within a string. It's a powerful tool for creating dynamic and readable output."
   ]
  },
  {
   "cell_type": "code",
   "execution_count": null,
   "id": "d57f9f59",
   "metadata": {},
   "outputs": [],
   "source": [
    "# assign string values to objects\n",
    "text1 = \"Enter\"\n",
    "text2 = \"Any\"\n",
    "text3 = \"Strings\"\n",
    "print(text1+text2+text3) # we can concatenate strings using \"+\""
   ]
  },
  {
   "cell_type": "markdown",
   "id": "c3389635",
   "metadata": {},
   "source": [
    "- Manually add Space between strings"
   ]
  },
  {
   "cell_type": "code",
   "execution_count": null,
   "id": "bfeedb22",
   "metadata": {},
   "outputs": [],
   "source": [
    "print(text1 + \" \" + text2 + \" \" +text3)"
   ]
  },
  {
   "cell_type": "markdown",
   "id": "6dcece3c",
   "metadata": {},
   "source": [
    "- Instead, use a Python format() functionality"
   ]
  },
  {
   "cell_type": "code",
   "execution_count": null,
   "id": "3f5ff3c1",
   "metadata": {},
   "outputs": [],
   "source": [
    "print(f\"{text1} {text2} {text3}\")"
   ]
  },
  {
   "cell_type": "markdown",
   "id": "f70971e5",
   "metadata": {},
   "source": [
    "- We can add operations to the variable"
   ]
  },
  {
   "cell_type": "code",
   "execution_count": null,
   "id": "a5909f19",
   "metadata": {},
   "outputs": [],
   "source": [
    "print(f\"{text1} {text2} {text3*3}\")"
   ]
  },
  {
   "cell_type": "markdown",
   "id": "b9f140dc",
   "metadata": {},
   "source": [
    "### Start Pulling Census Data\n",
    "\n",
    "Now that we have a basic understanding of APIs and their significance, let's delve into the process of effectively working with APIs for data collection. This step is essential for harnessing the power of available data sources.\n",
    "\n",
    "For more in-depth information and examples, you can refer to the [Census Data API User Guide](https://www.census.gov/data/developers/guidance/api-user-guide.Example_API_Queries.html#list-tab-2080675447).\n",
    "\n",
    "To begin our journey, we will use the following packages:\n",
    "\n",
    "- **Requests:** This package will enable us to make HTTP requests to the Census API and retrieve data.\n",
    "- **Pandas:** Pandas is an indispensable tool for data manipulation and analysis, and we will use it to handle the data obtained from the Census API.\n",
    "- **Census:** The Census package provides an interface to interact with the Census API and simplifies the data retrieval process.\n",
    "\n",
    "By combining these tools, we can access and process Census data with ease. Let's proceed with hands-on examples of working with the Census API."
   ]
  },
  {
   "cell_type": "code",
   "execution_count": null,
   "id": "3886ee2a",
   "metadata": {},
   "outputs": [],
   "source": [
    "# create year, url, and variable list object\n",
    "year = 2018\n",
    "url = f'https://api.census.gov/data/{year}/acs/acs5/variables.json' # now we can iteratively choose year\n",
    "response = requests.get(url) # intermediate step - use requestes.get() function to load url\n",
    "data = response.json() # intermediate step - use .json function to convert into a structured format\n",
    "var_list =  data['variables'].keys() # final list\n",
    "var_list[:10]"
   ]
  },
  {
   "cell_type": "markdown",
   "id": "5983cf46",
   "metadata": {},
   "source": [
    "### Side Note: Dictionaries\n",
    "\n",
    "Dictionaries are a fundamental data structure in Python, offering comparable capabilities to lists and tuples. However, dictionaries provide distinct advantages, especially in terms of key-value pair storage. \n",
    "\n",
    "Key points about dictionaries:\n",
    "\n",
    "1. **Key-Value Pairs:** Unlike lists or tuples, dictionaries use a key-value pairing system, allowing you to store and access data based on meaningful labels (keys).\n",
    "2. **Data Retrieval:** Accessing values from dictionaries is rapid and doesn't require iterating through the entire collection.\n",
    "3. **Data Transformation:** Dictionaries can be converted into dataframes, making it easier to perform data analysis using tools like Pandas.\n",
    "\n",
    "Let's start exploring dictionaries with a hands-on example:\n",
    "\n",
    "#### Create a Simple Dictionary\n",
    "\n",
    "To create a simple dictionary, you can use curly braces `{}` and specify key-value pairs separated by colons. Here's an example:"
   ]
  },
  {
   "cell_type": "code",
   "execution_count": null,
   "id": "d36833b8",
   "metadata": {},
   "outputs": [],
   "source": [
    "student = {\n",
    "    'name': 'Alice',\n",
    "    'age': 20,\n",
    "    'major': 'Computer Science',\n",
    "    'gpa': 3.8\n",
    "}"
   ]
  },
  {
   "cell_type": "code",
   "execution_count": null,
   "id": "c3e3c8a1",
   "metadata": {},
   "outputs": [],
   "source": [
    "# Access dictionary values using keys\n",
    "student['name']"
   ]
  },
  {
   "cell_type": "code",
   "execution_count": null,
   "id": "ceeaec25",
   "metadata": {},
   "outputs": [],
   "source": [
    "# Combine with .format() function\n",
    "print(f\"Student Name:{student['name']}\")\n",
    "print(f\"Student Age:{student['age']}\")\n",
    "print(f\"Student Major:{student['major']}\")\n",
    "print(f\"Student GPA:{student['gpa']}\")"
   ]
  },
  {
   "cell_type": "code",
   "execution_count": null,
   "id": "e6b88fad",
   "metadata": {},
   "outputs": [],
   "source": [
    "# Append new key-values\n",
    "student['age'] = 21\n",
    "student['gpa'] = 3.9\n",
    "student['university'] = 'XYZ University'\n",
    "\n",
    "# Display the updated dictionary\n",
    "print(\"\\nUpdated Student Information:\")\n",
    "print(student)"
   ]
  },
  {
   "cell_type": "markdown",
   "id": "50c2e78b",
   "metadata": {},
   "source": [
    "- We can also insert dictionaries into a dictionary!"
   ]
  },
  {
   "cell_type": "code",
   "execution_count": null,
   "id": "d53645a2",
   "metadata": {},
   "outputs": [],
   "source": [
    "population_data = {\n",
    "    'USA': {'population': 331002651, 'capital': 'Washington, D.C.'},\n",
    "    'China': {'population': 1444216107, 'capital': 'Beijing'},\n",
    "    'India': {'population': 1380004385, 'capital': 'New Delhi'},\n",
    "    'Brazil': {'population': 212559417, 'capital': 'Brasília'},\n",
    "    'Russia': {'population': 145934462, 'capital': 'Moscow'},\n",
    "    'Nigeria': {'population': 206139587, 'capital': 'Abuja'},\n",
    "    'France': {'population': 65273511, 'capital': 'Paris'}  # New country\n",
    "}\n",
    "print(population_data['USA'])\n",
    "print(f\"The data class of an element inside a dictionary can also be {type(population_data['USA'])}\")\n",
    "print(population_data['USA']['capital'])"
   ]
  },
  {
   "cell_type": "code",
   "execution_count": null,
   "id": "20885a0b",
   "metadata": {},
   "outputs": [],
   "source": [
    "# Add a new country to the dictionary\n",
    "new_country_name = 'Spain'\n",
    "new_country_info = {'population': 46754783, 'capital': 'Madrid'}\n",
    "population_data[new_country_name] = new_country_info\n",
    "pd.DataFrame(population_data)"
   ]
  },
  {
   "cell_type": "markdown",
   "id": "42e03126",
   "metadata": {},
   "source": [
    "If we want to preserve the country name then we can insert the entire information again inside another dictionary"
   ]
  },
  {
   "cell_type": "code",
   "execution_count": null,
   "id": "88994501",
   "metadata": {},
   "outputs": [],
   "source": [
    "# Restructure the data\n",
    "restructured_data = [{'Country': country, **info} for country, info in population_data.items()]\n",
    "\n",
    "# Convert to pandas DataFrame\n",
    "df = pd.DataFrame(restructured_data)\n",
    "\n",
    "# Display the DataFrame\n",
    "print(df)"
   ]
  },
  {
   "cell_type": "markdown",
   "id": "1abc989c",
   "metadata": {},
   "source": [
    "### Side Notes: `for` and `while` Loops\n",
    "\n",
    "Let's take a quick look at for and while loops, two of the most frequently used tools in your Python toolbox.\n",
    "\n",
    "1. **`for` Loop:** If you're dealing with a specific range of elements, the `for` loop is your go-to. It's like your trusty map for exploring a set of items step by step.\n",
    "\n",
    "2. **`while` Loop:** Now, when things are more about logic and less about a predefined range, the `while` loop steps in. It's like having a sentinel guarding the gate until your condition is met.\n",
    "\n",
    "These loops are your dynamic duo for tackling repetitive tasks in style. Let's dive in and see them in action!"
   ]
  },
  {
   "cell_type": "code",
   "execution_count": null,
   "id": "bd5c0387",
   "metadata": {},
   "outputs": [],
   "source": [
    "# Loop through dictionary keys and values\n",
    "print(\"Looping through Dictionary:\")\n",
    "for key, value in student.items():\n",
    "    print(f\"{key}: {value}\")"
   ]
  },
  {
   "cell_type": "code",
   "execution_count": null,
   "id": "091bb37d",
   "metadata": {},
   "outputs": [],
   "source": [
    "# Numeric operation\n",
    "number = 5\n",
    "factorial = 1\n",
    "\n",
    "for i in range(1, number + 1):\n",
    "    factorial *= i\n",
    "\n",
    "    print(f\"The factorial of {i} is {factorial}\")"
   ]
  },
  {
   "cell_type": "code",
   "execution_count": null,
   "id": "4e623e04",
   "metadata": {},
   "outputs": [],
   "source": [
    "# Logical expression\n",
    "import time\n",
    "\n",
    "seconds = 10\n",
    "\n",
    "while seconds > 0:\n",
    "    print(f\"Time left: {seconds} seconds\")\n",
    "    time.sleep(1)\n",
    "    seconds -= 1\n",
    "\n",
    "print(\"Time's up!\")"
   ]
  },
  {
   "cell_type": "markdown",
   "id": "6668fc64",
   "metadata": {},
   "source": [
    "- Create a loop that generates API URLs for each year from 2010 to 2020."
   ]
  },
  {
   "cell_type": "code",
   "execution_count": null,
   "id": "b14ffde2",
   "metadata": {},
   "outputs": [],
   "source": [
    "# Answer\n"
   ]
  },
  {
   "cell_type": "markdown",
   "id": "95ca2a66",
   "metadata": {},
   "source": [
    "### Census Data: Browsing and Pulling Variables\n",
    "\n",
    "When working with Census data, it's essential to select the specific variables that are relevant to your analysis. Here's a step-by-step guide on how to achieve this:\n",
    "\n",
    "1. **Read Variable Descriptions:** Start by visiting the [Census Data API Documentation](https://api.census.gov/data/2018/acs/acs5.html) page. This page provides detailed descriptions of available variables, allowing you to understand their meanings and relevance.\n",
    "\n",
    "2. **Choose Relevant Variables:** Carefully examine the variable descriptions to identify the ones that match your research goals. Think about the information you need and the variables that provide that information. Make note of the variable names that you'll be using in your data collection process.\n",
    "\n",
    "3. **Pull Designated Variables:** Once you've decided on the variables you need, you can use Python to interact with the Census API and retrieve data. You'll use your chosen variable names in your API requests to specifically request the data you're interested in.\n",
    "\n",
    "Remember, your goal is to efficiently gather the data that aligns with your research objectives. By selecting the right variables, you can ensure that your analysis is accurate and insightful. Let's dive into the process and start pulling the data!\n",
    "\n",
    "- Read Variable Descriptions"
   ]
  },
  {
   "cell_type": "code",
   "execution_count": null,
   "id": "4653ba7b",
   "metadata": {},
   "outputs": [],
   "source": [
    "year = 2018\n",
    "url = f'http://api.census.gov/data/{year}/acs/acs5/variables.html'\n",
    "var = pd.read_html(url)[0]\n",
    "len(var) # so many"
   ]
  },
  {
   "cell_type": "markdown",
   "id": "7e71bbf4",
   "metadata": {},
   "source": [
    "- Choose Relevant Variables\n",
    "- Let's say, we want the total number of population, B02001_001E"
   ]
  },
  {
   "cell_type": "code",
   "execution_count": null,
   "id": "c03ef300",
   "metadata": {},
   "outputs": [],
   "source": [
    "mykey=\"INPUT_YOUR_API_KEY\" \n",
    "c = Census(mykey)\n",
    "year = 2017\n",
    "\n",
    "geography = \"county\"\n",
    "geo_params = {'for': f'{geography}:*', 'in': 'state:06'}\n",
    "\n",
    "# Make the API call\n",
    "variables = c.acs5.get(('B02001_001E',), geo_params, year=year)\n",
    "variables"
   ]
  },
  {
   "cell_type": "markdown",
   "id": "6cc987ae",
   "metadata": {},
   "source": [
    "- Utilize commas to extract multiple variables.\n",
    "- You can leverage the `.join()` function to retrieve multiple variables simultaneously."
   ]
  },
  {
   "cell_type": "code",
   "execution_count": null,
   "id": "adbd61bd",
   "metadata": {},
   "outputs": [],
   "source": [
    "variables = c.acs5.get(('B02001_001E,B02001_005E',), geo_params, year=year)\n",
    "variables"
   ]
  },
  {
   "cell_type": "code",
   "execution_count": null,
   "id": "49077100",
   "metadata": {},
   "outputs": [],
   "source": [
    "# total population, non-hispanic white, black, asian and hispanic populations, and median income\n",
    "list_of_vars = ['B02001_001E','B02001_002E','B02001_003E','B02001_005E','B03001_003E', 'B06011_001E']\n",
    "print(\",\".join(list_of_vars))"
   ]
  },
  {
   "cell_type": "markdown",
   "id": "acff099b",
   "metadata": {},
   "source": [
    "- We can also find a zipcode-level observation!"
   ]
  },
  {
   "cell_type": "code",
   "execution_count": null,
   "id": "c9200554",
   "metadata": {},
   "outputs": [],
   "source": [
    "df = c.acs5.zipcode('B01003_001E,B02001_005E', state_fips=\"06\", zcta=\"91711\", year=year)\n",
    "df"
   ]
  },
  {
   "cell_type": "markdown",
   "id": "e5c79c12",
   "metadata": {},
   "source": [
    "### Constructing Data Across Time\n",
    "\n",
    "Analyzing data across specific time periods can provide valuable insights into trends and changes. To accomplish this, follow these steps:\n",
    "\n",
    "1. **Get the Common List of Variables:** The first step in constructing data across time is to identify a common set of variables that you want to analyze consistently across different periods. Then, we can choose variables that are relevant to your research objectives.\n",
    "\n",
    "By establishing a common ground for variables, you ensure that your analysis remains focused and consistent as you delve into different time frames. This foundational step sets the stage for robust and insightful data analysis. Let's move forward and explore how to gather this common list of variables!"
   ]
  },
  {
   "cell_type": "code",
   "execution_count": null,
   "id": "1944da2d",
   "metadata": {},
   "outputs": [],
   "source": [
    "import requests\n",
    "\n",
    "# Years to consider\n",
    "years = range(2015, 2021) # range from 2015 to 2020\n",
    "\n",
    "# Dictionary to store variables for each year\n",
    "variables_by_year = {}\n",
    "\n",
    "# Loop through each year\n",
    "for year in years:\n",
    "    url = f'https://api.census.gov/data/{year}/acs/acs5/variables.json'\n",
    "    response = requests.get(url)\n",
    "    \n",
    "    if response.status_code == 200:\n",
    "        data = response.json()\n",
    "        variables_by_year[year] = list(data['variables'].keys())\n",
    "    else:\n",
    "        print(f'Error retrieving data for year {year}')\n",
    "        years.remove(year)\n",
    "\n",
    "# Identify consistently present variables\n",
    "all_variables = set(variables_by_year[years[0]])\n",
    "for year in years[1:]:\n",
    "    all_variables.intersection_update(variables_by_year[year])\n",
    "\n",
    "print(f\"Number of Common Variables: {len(all_variables)}\") # Still So Many!\n"
   ]
  },
  {
   "cell_type": "markdown",
   "id": "14a6d7c2",
   "metadata": {},
   "source": [
    "- Leverage `random` package to randomly choose elements"
   ]
  },
  {
   "cell_type": "code",
   "execution_count": null,
   "id": "59bc0c04",
   "metadata": {},
   "outputs": [],
   "source": [
    "import random\n",
    "\n",
    "# Create a list of 50 elements\n",
    "elements = list(range(1, 51))\n",
    "\n",
    "# Randomly choose 5 elements from the list\n",
    "random_elements = random.sample(elements, 5)\n",
    "\n",
    "print(f\"Randomly chosen elements: {random_elements}\")\n"
   ]
  },
  {
   "cell_type": "markdown",
   "id": "3a01351d",
   "metadata": {},
   "source": [
    "- Find the list of 30 variables from US Census using `random` package"
   ]
  },
  {
   "cell_type": "code",
   "execution_count": null,
   "id": "aa303763",
   "metadata": {},
   "outputs": [],
   "source": [
    "# Answer:"
   ]
  },
  {
   "cell_type": "markdown",
   "id": "c031b201",
   "metadata": {},
   "source": [
    "### Systematically Loop Through Other States\n",
    "\n",
    "In the previous sections, we learned how to pull variables across different years. Now, let's explore data from multiple states across the United States by systematically looping through data from various states.\n",
    "\n",
    "#### Utilizing External Sources\n",
    "\n",
    "To achieve this, we'll practice how to leverage external [source](\"https://www.mercercountypa.gov/dps/state_fips_code_listing.htm\") and integrate them seamlessly within the Python environment.\n",
    "\n",
    "By combining our knowledge of data extraction, variable selection, and external data sources, we're equipped to embark on a comprehensive exploration of data from across the United States. Let's dive into the next phase of our analysis and start systematically looping through different states!\n",
    "\n",
    "- Load the external table and clean"
   ]
  },
  {
   "cell_type": "code",
   "execution_count": null,
   "id": "671e1f53",
   "metadata": {},
   "outputs": [],
   "source": [
    "url=\"https://www.mercercountypa.gov/dps/state_fips_code_listing.htm\"\n",
    "states = pd.read_html(url)[0]\n",
    "states"
   ]
  },
  {
   "cell_type": "code",
   "execution_count": null,
   "id": "ebe23719",
   "metadata": {},
   "outputs": [],
   "source": [
    "states.columns = states.iloc[0] # Take the first row as a column\n",
    "states= states[1:] # keep observations from the second column\n",
    "cols =  [x.lower().replace(\" \",\"_\") for x in list(states.columns)]\n",
    "col_names = list(range(len(cols)))\n",
    "states.columns = [x+str(y) for x,y in zip(cols,col_names)]\n",
    "states"
   ]
  },
  {
   "cell_type": "markdown",
   "id": "ad7650f1",
   "metadata": {},
   "source": [
    "### Side Notes: Enhancing Various Data Cleaning Operations\n",
    "- `replace()` replaces a designated string with a new one.\n",
    "- `split()` splits a string into a list of elements split by a designated string\n",
    "- `Regular Expression` allows abstract operations\n",
    "- `list` can be used to simple data merging"
   ]
  },
  {
   "cell_type": "code",
   "execution_count": null,
   "id": "5169974e",
   "metadata": {},
   "outputs": [],
   "source": [
    "# replace function\n",
    "text = \"Hello, World! Hello!\"\n",
    "new_text = text.replace(\"Hello\", \"Hi\")\n",
    "print(new_text)  "
   ]
  },
  {
   "cell_type": "code",
   "execution_count": null,
   "id": "e7dd824d",
   "metadata": {},
   "outputs": [],
   "source": [
    "# split function\n",
    "text = \"Hello, World! Hello!\"\n",
    "new_text = text.split(\", \")[0]\n",
    "print(new_text)  \n",
    "new_text = text.split(\", \")[1]\n",
    "print(new_text)  "
   ]
  },
  {
   "cell_type": "code",
   "execution_count": null,
   "id": "f45d09f1",
   "metadata": {},
   "outputs": [],
   "source": [
    "# Regular Expression\n",
    "import re\n",
    "text = \"Hello, World! Hello!\"\n",
    "new_text = re.sub(r\"Hello\", \"Hi\", text)\n",
    "print(new_text) "
   ]
  },
  {
   "cell_type": "code",
   "execution_count": null,
   "id": "8cce035f",
   "metadata": {},
   "outputs": [],
   "source": [
    "# Regular Expression for changing the order\n",
    "text = \"John Smith, Jane Doe\"\n",
    "new_text = re.sub(r\"(\\w+) (\\w+)\", r\"\\2, \\1\", text)\n",
    "print(new_text)  "
   ]
  },
  {
   "cell_type": "code",
   "execution_count": null,
   "id": "0a6e3a10",
   "metadata": {},
   "outputs": [],
   "source": [
    "# List operation to append data\n",
    "list1 = [1, 2, 3]\n",
    "list2 = [4, 5, 6]\n",
    "result = list1 + list2\n",
    "print(result) "
   ]
  },
  {
   "cell_type": "code",
   "execution_count": null,
   "id": "23a35294",
   "metadata": {},
   "outputs": [],
   "source": [
    "# List operation for combing values\n",
    "list1 = [1, 2, 3]\n",
    "list2 = [4, 5, 6]\n",
    "result = [x + y for x,y in zip(list1,list2)]\n",
    "print(result) "
   ]
  },
  {
   "cell_type": "code",
   "execution_count": null,
   "id": "4773e082",
   "metadata": {},
   "outputs": [],
   "source": [
    "# More on zip operation\n",
    "names = ['Alice', 'Bob', 'Charlie']\n",
    "ages = [25, 30, 22]\n",
    "\n",
    "zipped = zip(names, ages)\n",
    "\n",
    "# Convert the zip object to a list of tuples\n",
    "zipped_list = list(zipped)\n",
    "\n",
    "print(zipped_list)"
   ]
  },
  {
   "cell_type": "markdown",
   "id": "b5b5d1cd",
   "metadata": {},
   "source": [
    "- Find the list of State FIPS Code"
   ]
  },
  {
   "cell_type": "code",
   "execution_count": null,
   "id": "c885189e",
   "metadata": {},
   "outputs": [],
   "source": [
    "state_fips = list(states.fips_code1) + list(states.fips_code4)\n",
    "state_fips = [x for x in state_fips if type(x)==str] # Why did I add the condition?\n",
    "len(state_fips) # 50 States, D.C., Puerto Rico, U.S. Virgin Islands, American Samoa, Northern Mariana Islands, and Guam"
   ]
  },
  {
   "cell_type": "markdown",
   "id": "27ff3df2",
   "metadata": {},
   "source": [
    "- Set up a loop to get the total population by state"
   ]
  },
  {
   "cell_type": "code",
   "execution_count": null,
   "id": "32e3d636",
   "metadata": {},
   "outputs": [],
   "source": [
    "data = []\n",
    "for fips in state_fips:\n",
    "    geo_params = {'for': f'state:{fips}'}\n",
    "\n",
    "    d = c.acs5.get(('NAME,B02001_001E'), geo_params, year=year)\n",
    "    data = data + d\n",
    "pd.DataFrame(data)"
   ]
  },
  {
   "cell_type": "code",
   "execution_count": null,
   "id": "5cbe46ed",
   "metadata": {},
   "outputs": [],
   "source": [
    "data['year'] = year"
   ]
  },
  {
   "cell_type": "markdown",
   "id": "63119ec8",
   "metadata": {},
   "source": [
    "## UCR Crime Data\n",
    "- General information [link](https://www.justice.gov/developer#:~:text=The%20FBI%20Crime%20Data%20API,uses%20and%20their%20related%20entities.)\n",
    "- Sign up for Data.gov API Key [link](https://api.data.gov/signup/)"
   ]
  },
  {
   "cell_type": "code",
   "execution_count": null,
   "id": "92c0724a",
   "metadata": {},
   "outputs": [],
   "source": [
    "key=\"Input_your_key\"\n",
    "state=\"CA\"\n",
    "url = f\"https://api.usa.gov/crime/fbi/cde/agency/byStateAbbr/{state}?API_KEY={key}\"\n",
    "response = requests.get(url)\n",
    "data = response.json()\n",
    "data"
   ]
  },
  {
   "cell_type": "markdown",
   "id": "6dc63040",
   "metadata": {},
   "source": [
    "## Twitter Practice\n",
    "\n",
    "As of now, the Twitter API is offered as a paid service, and accessing Reddit data involves lengthy waiting periods. However, we have an alternative avenue to refine our skills: working with [Publicly Available Data](https://www.thetrumparchive.com/)!\n",
    "\n",
    "Let's engage in practical exercises using this accessible resource!"
   ]
  },
  {
   "cell_type": "code",
   "execution_count": 13,
   "id": "cd790e9b",
   "metadata": {},
   "outputs": [
    {
     "name": "stdout",
     "output_type": "stream",
     "text": [
      "                    id                                               text  \\\n",
      "0    98454970654916608  Republicans and Democrats have both created ou...   \n",
      "1  1234653427789070336  I was thrilled to be back in the Great city of...   \n",
      "2  1218010753434820614  RT @CBS_Herridge: READ: Letter to surveillance...   \n",
      "3  1304875170860015617  The Unsolicited Mail In Ballot Scam is a major...   \n",
      "4  1218159531554897920  RT @MZHemingway: Very friendly telling of even...   \n",
      "\n",
      "  isRetweet isDeleted              device  favorites  retweets  \\\n",
      "0         f         f           TweetDeck         49       255   \n",
      "1         f         f  Twitter for iPhone      73748     17404   \n",
      "2         t         f  Twitter for iPhone          0      7396   \n",
      "3         f         f  Twitter for iPhone      80527     23502   \n",
      "4         t         f  Twitter for iPhone          0      9081   \n",
      "\n",
      "                  date isFlagged  \n",
      "0  2011-08-02 18:07:48         f  \n",
      "1  2020-03-03 01:34:50         f  \n",
      "2  2020-01-17 03:22:47         f  \n",
      "3  2020-09-12 20:10:58         f  \n",
      "4  2020-01-17 13:13:59         f  \n"
     ]
    }
   ],
   "source": [
    "import requests\n",
    "import pandas as pd\n",
    "import io\n",
    "\n",
    "# URL of the website you want to scrape\n",
    "url = \"https://drive.google.com/file/d/1xRKHaP-QwACMydlDnyFPEaFdtskJuBa6/view?usp=sharing\"\n",
    "\n",
    "file_id=url.split('/')[-2]\n",
    "dwn_url='https://drive.google.com/uc?id=' + file_id\n",
    "df = pd.read_csv(dwn_url)\n",
    "print(df.head())"
   ]
  },
  {
   "cell_type": "code",
   "execution_count": null,
   "id": "3c3d484e",
   "metadata": {},
   "outputs": [],
   "source": [
    "df.text[:5]"
   ]
  },
  {
   "cell_type": "code",
   "execution_count": null,
   "id": "31bcd145",
   "metadata": {},
   "outputs": [],
   "source": [
    "from textblob import TextBlob\n",
    "\n",
    "# Perform sentiment analysis using TextBlob\n",
    "for tweet in df.text[:5]: # now you can modify this line to obtain everything\n",
    "    analysis = TextBlob(tweet)\n",
    "    sentiment = 'Positive' if analysis.sentiment.polarity > 0 else 'Negative' if analysis.sentiment.polarity < 0 else 'Neutral'\n",
    "    \n",
    "    print(f'Tweet: {tweet}')\n",
    "    print(f'Sentiment: {sentiment}')\n",
    "    print('---')\n"
   ]
  },
  {
   "cell_type": "code",
   "execution_count": null,
   "id": "82c7f3ea",
   "metadata": {},
   "outputs": [],
   "source": [
    "from nltk.sentiment.vader import SentimentIntensityAnalyzer\n",
    "import nltk\n",
    "nltk.download('vader_lexicon')\n",
    "\n",
    "# Initialize the SentimentIntensityAnalyzer\n",
    "sia = SentimentIntensityAnalyzer()\n",
    "\n",
    "# Perform sentiment analysis using VADER\n",
    "for tweet in df.text[:5]:\n",
    "    sentiment_scores = sia.polarity_scores(tweet)\n",
    "    compound_score = sentiment_scores['compound']\n",
    "    sentiment = 'Positive' if compound_score > 0 else 'Negative' if compound_score < 0 else 'Neutral'\n",
    "    \n",
    "    print(f'Tweet: {tweet}')\n",
    "    print(f'Sentiment: {sentiment}')\n",
    "    print('---')"
   ]
  },
  {
   "cell_type": "markdown",
   "id": "447ed4a5",
   "metadata": {},
   "source": [
    "[Free API List](https://github.com/public-apis/public-apis)"
   ]
  }
 ],
 "metadata": {
  "kernelspec": {
   "display_name": "Python 3 (ipykernel)",
   "language": "python",
   "name": "python3"
  },
  "language_info": {
   "codemirror_mode": {
    "name": "ipython",
    "version": 3
   },
   "file_extension": ".py",
   "mimetype": "text/x-python",
   "name": "python",
   "nbconvert_exporter": "python",
   "pygments_lexer": "ipython3",
   "version": "3.9.13"
  }
 },
 "nbformat": 4,
 "nbformat_minor": 5
}
